{
 "cells": [
  {
   "cell_type": "code",
   "execution_count": 1,
   "metadata": {
    "collapsed": true
   },
   "outputs": [],
   "source": [
    "%matplotlib inline\n",
    "import numpy as np\n",
    "import pandas as pd\n",
    "import matplotlib.pyplot as plt\n"
   ]
  },
  {
   "cell_type": "code",
   "execution_count": 83,
   "metadata": {
    "collapsed": false
   },
   "outputs": [],
   "source": [
    "def load_data(filename):\n",
    "    df = pd.read_csv(filename)\n",
    "    dfOpen = np.array(df.Open)\n",
    "    dfClose = np.array(df.Close)\n",
    "    dfHigh = np.array(df.High)\n",
    "    dfLow = np.array(df.Low)\n",
    "    a = dfOpen.shape\n",
    "    d = {}\n",
    "    d['Open'] = dfOpen\n",
    "    d['Close'] = dfClose\n",
    "    d['High'] = dfHigh\n",
    "    d['Low'] = dfLow\n",
    "    return d\n",
    "\n",
    "def calcMax(length, high):\n",
    "    a = high.shape\n",
    "    runningMax = np.zeros(a)\n",
    "    runningMax[length-1] = max(high[:length])\n",
    "    for i in range(length,a[0]):\n",
    "        if high[i] >= runningMax[i-1]:\n",
    "            runningMax[i] = high[i]\n",
    "        elif runningMax[i-1] == high[i-length]:\n",
    "            runningMax[i-1] = max(high[i-length+1:i+1])\n",
    "        else:\n",
    "            runningMax[i] = runningMax[i-1]\n",
    "    return runningMax\n",
    "\n",
    "def calcMin(length, low):\n",
    "    a = low.shape\n",
    "    runningLow = np.zeros(a)\n",
    "    runningLow[length] = min(low[:length])\n",
    "    for i in range(length,a[0]):\n",
    "        if low[i] <= runningLow[i-1]:\n",
    "            runningLow[i] = low[i]\n",
    "        elif runningLow[i-1] == low[i-length]:\n",
    "            runningLow[i] = min(low[i-length+1:i+1])\n",
    "        else:\n",
    "            runningLow[i] = runningLow[i-1]\n",
    "    return runningLow\n",
    "\n",
    "def calcSignal(length, rm, rl, high, low):\n",
    "    a = rm.shape\n",
    "    signal = np.zeros(a)\n",
    "    for i in range(length,a[0]):\n",
    "        if high[i] > rm[i-1]:\n",
    "            if low[i] < rl[i-1]:\n",
    "                signal[i] = 0\n",
    "            else:\n",
    "                signal[i] = 1\n",
    "        elif low[i] < rl[i-1]:\n",
    "            signal[i] = -1\n",
    "    return signal\n",
    "\n",
    "def calcDrawdown(portfolio):\n",
    "    a = portfolio.shape\n",
    "    drawdown = np.zeros(a)\n",
    "    prevPeak = portfolio[0]\n",
    "    for i in range(1,a[0]):\n",
    "        if portfolio[i] < prevPeak:\n",
    "            drawdown[i] = portfolio[i] - prevPeak\n",
    "        elif portfolio[i] > prevPeak:\n",
    "            prevPeak = portfolio[i]\n",
    "    return drawdown\n",
    "\n",
    "\n",
    "\n",
    "\n",
    "\n",
    "\n",
    "\n",
    "def calcTrades(length, stopPct, signal, close, Open, high, low, rm, rl):\n",
    "    a = Open.shape\n",
    "    trade = np.zeros(a)\n",
    "    price = np.zeros(a)\n",
    "    currentPos = 0.0\n",
    "    prevPeak = 0.0\n",
    "    prevTrough = 0.0\n",
    "    for i in range(length,a[0]-1):\n",
    "        if currentPos == 0:\n",
    "            if signal[i] == 1: \n",
    "                trade[i] = 1\n",
    "                currentPos = 1\n",
    "                price[i] = max(rm[i-1], Open[i]);\n",
    "                prevPeak = price[i]\n",
    "            elif signal[i] == -1:\n",
    "                trade[i] = -1\n",
    "                currentPos = -1\n",
    "                price[i] = min(rl[i-1],Open[i]);\n",
    "                prevTrough = price[i]\n",
    "        elif currentPos == 1:\n",
    "            if high[i] > prevPeak:\n",
    "                prevPeak = high[i]\n",
    "            elif low[i] < (1-stopPct) * prevPeak:\n",
    "                trade[i] = -1\n",
    "                price[i] = min(Open[i], (1-stopPct)*prevPeak)\n",
    "                currentPos = 0\n",
    "        elif currentPos == -1:\n",
    "            if low[i] < prevTrough:\n",
    "                prevTrough = low[i]\n",
    "            elif high[i] > (1 + stopPct) * prevTrough:\n",
    "                trade[i] = 1\n",
    "                price[i] = max(Open[i], (1+stopPct)*prevTrough)\n",
    "                currentPos = 0\n",
    "                \n",
    "    if currentPos == 1:\n",
    "        trade[a[0]-1] = -1\n",
    "        price[a[0]-1] = close[a[0]-1]\n",
    "    elif currentPos == -1:\n",
    "        trade[a[0]-1] = 1\n",
    "        price[a[0]-1] = close[a[0]-1]\n",
    "    return trade, price\n",
    "\n",
    "   \n",
    "        \n",
    "\n",
    "def calcPortfolio(length, stopPct, Open, high, low, close, capital,contractSize,slippage):\n",
    "    runningMax = calcMax(length, high)\n",
    "    runningMin = calcMin(length, low)\n",
    "    signal = calcSignal(length, runningMax, runningMin, high, low)\n",
    "    trades,prices = calcTrades(length, stopPct, signal, close, Open, high, low, runningMax, runningMin)\n",
    "    a = Open.shape\n",
    "    port = np.zeros(a)\n",
    "    port[:length] = capital\n",
    "    cash = capital\n",
    "    currentPos = 0\n",
    "    priceTraded = 0\n",
    "    slippageThisTrade = 0\n",
    "    \n",
    "    for i in range(length, a[0]):\n",
    "        port[i] = port[i-1] + currentPos*contractSize*(Open[i] - close[i-1])\n",
    "        if trades[i] == 1:\n",
    "            currentPos += 1\n",
    "            slippageThisTrade = (1-abs(currentPos))*slippage\n",
    "            priceTraded = prices[i]\n",
    "            port[i] = port[i] + currentPos*contractSize*(close[i] - priceTraded) - (1-abs(currentPos))*contractSize*(priceTraded - Open[i])        \n",
    "        elif trades[i] == -1:\n",
    "            currentPos -= 1\n",
    "            slippageThisTrade = (1-abs(currentPos))*slippage\n",
    "            priceTraded = prices[i]\n",
    "            port[i] = port[i] + currentPos*contractSize*(close[i] - priceTraded) + (1-abs(currentPos))*contractSize*(priceTraded - Open[i])        \n",
    "        elif trades[i] == 0:\n",
    "            slippageThisTrade = 0\n",
    "            port[i] = port[i] + currentPos*contractSize*(close[i]-Open[i])\n",
    "    return port\n",
    "\n",
    "    "
   ]
  },
  {
   "cell_type": "code",
   "execution_count": 87,
   "metadata": {
    "collapsed": false
   },
   "outputs": [],
   "source": [
    "dTY = load_data('TY-5min.csv')\n",
    "dTU = load_data('TU-5min.csv')\n"
   ]
  },
  {
   "cell_type": "code",
   "execution_count": 55,
   "metadata": {
    "collapsed": false
   },
   "outputs": [
    {
     "data": {
      "text/plain": [
       "89965.625000000087"
      ]
     },
     "execution_count": 55,
     "metadata": {},
     "output_type": "execute_result"
    }
   ],
   "source": [
    "stopPct = 0.2\n",
    "timeStep = 2000\n",
    "capital = 10000.0\n",
    "cz = 2000\n",
    "slippage = 19\n",
    "port = calcPortfolio(timeStep,stopPct,dTU['Open'],dTU['High'],dTU['Low'],dTU['Close'], capital,cz,slippage)\n",
    "drawdown = calcDrawdown(port)\n",
    "max(port)"
   ]
  },
  {
   "cell_type": "code",
   "execution_count": 26,
   "metadata": {
    "collapsed": false
   },
   "outputs": [
    {
     "data": {
      "text/plain": [
       "[<matplotlib.lines.Line2D at 0x110712a58>]"
      ]
     },
     "execution_count": 26,
     "metadata": {},
     "output_type": "execute_result"
    },
    {
     "data": {
      "image/png": "[encoded data removed]",
      "text/plain": [
       "<matplotlib.figure.Figure at 0x110712a90>"
      ]
     },
     "metadata": {},
     "output_type": "display_data"
    }
   ],
   "source": [
    "plt.plot(port)\n",
    "plt.plot(drawdown)"
   ]
  },
  {
   "cell_type": "code",
   "execution_count": 94,
   "metadata": {
    "collapsed": false
   },
   "outputs": [
    {
     "name": "stdout",
     "output_type": "stream",
     "text": [
      "Done\n",
      "Done\n",
      "Done\n"
     ]
    }
   ],
   "source": [
    "arr = [0.01,0.02,0.03]\n",
    "rng = np.array(arr)\n",
    "del arr\n",
    "rng2 = np.linspace(1000,9000,9)\n",
    "#rng3 = np.linspace(20000,100000,5)\n",
    "#rng2 = np.append(rng2,rng3)\n",
    "vals = np.zeros((3,9))\n",
    "sharpe = []\n",
    "capital = 10000.0\n",
    "cz = 1000\n",
    "slippage = 19\n",
    "count = 0\n",
    "count1 = 0\n",
    "for i in rng:\n",
    "    for j in rng2:\n",
    "        port = calcPortfolio(int(j),i,dTY['Open'],dTY['High'],dTY['Low'],dTY['Close'], capital,cz,slippage)\n",
    "        vals[count,count1] = max(port)\n",
    "        count1 = count1 + 1\n",
    "        sharpe.append(np.mean(port)/np.std(port))\n",
    "    print('Done')\n",
    "    count1 = 0\n",
    "    count = count + 1 \n",
    "df = pd.DataFrame(vals)\n",
    "df.columns = rng2\n",
    "arr  = [str(x*100)+'%' for x in arr ]\n",
    "df.index = arr\n"
   ]
  },
  {
   "cell_type": "code",
   "execution_count": 7,
   "metadata": {
    "collapsed": true
   },
   "outputs": [],
   "source": [
    "df = pd.read_csv('CO-5min.asc')"
   ]
  },
  {
   "cell_type": "code",
   "execution_count": 9,
   "metadata": {
    "collapsed": false
   },
   "outputs": [
    {
     "data": {
      "text/plain": [
       "0         56.05\n",
       "1         56.04\n",
       "2         56.03\n",
       "3         56.03\n",
       "4         56.02\n",
       "5         56.03\n",
       "6         56.01\n",
       "7         56.00\n",
       "8         56.01\n",
       "9         55.99\n",
       "10        55.99\n",
       "11        56.01\n",
       "12        56.03\n",
       "13        56.10\n",
       "14        56.13\n",
       "15        56.14\n",
       "16        56.21\n",
       "17        56.24\n",
       "18        56.25\n",
       "19        56.25\n",
       "20        56.19\n",
       "21        56.15\n",
       "22        56.15\n",
       "23        56.17\n",
       "24        56.19\n",
       "25        56.23\n",
       "26        56.23\n",
       "27        56.27\n",
       "28        56.32\n",
       "29        56.66\n",
       "          ...  \n",
       "230802    54.47\n",
       "230803    54.47\n",
       "230804    54.49\n",
       "230805    54.52\n",
       "230806    54.49\n",
       "230807    54.47\n",
       "230808    54.49\n",
       "230809    54.47\n",
       "230810    54.43\n",
       "230811    54.40\n",
       "230812    54.37\n",
       "230813    54.36\n",
       "230814    54.36\n",
       "230815    54.39\n",
       "230816    54.37\n",
       "230817    54.37\n",
       "230818    54.36\n",
       "230819    54.35\n",
       "230820    54.43\n",
       "230821    54.38\n",
       "230822    54.33\n",
       "230823    54.32\n",
       "230824    54.34\n",
       "230825    54.37\n",
       "230826    54.40\n",
       "230827    54.41\n",
       "230828    54.36\n",
       "230829    54.40\n",
       "230830    54.43\n",
       "230831    54.37\n",
       "Name: Open, dtype: float64"
      ]
     },
     "execution_count": 9,
     "metadata": {},
     "output_type": "execute_result"
    }
   ],
   "source": [
    "df = pd.read"
   ]
  },
  {
   "cell_type": "code",
   "execution_count": null,
   "metadata": {
    "collapsed": true
   },
   "outputs": [],
   "source": []
  }
 ],
 "metadata": {
  "kernelspec": {
   "display_name": "Python 3",
   "language": "python",
   "name": "python3"
  },
  "language_info": {
   "codemirror_mode": {
    "name": "ipython",
    "version": 3
   },
   "file_extension": ".py",
   "mimetype": "text/x-python",
   "name": "python",
   "nbconvert_exporter": "python",
   "pygments_lexer": "ipython3",
   "version": "3.6.0"
  }
 },
 "nbformat": 4,
 "nbformat_minor": 2
}
